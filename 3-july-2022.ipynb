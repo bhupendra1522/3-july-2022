{
 "cells": [
  {
   "cell_type": "markdown",
   "id": "2e80f026",
   "metadata": {},
   "source": [
    "# data structures"
   ]
  },
  {
   "cell_type": "markdown",
   "id": "f2d39bea",
   "metadata": {},
   "source": [
    "list"
   ]
  },
  {
   "cell_type": "code",
   "execution_count": 11,
   "id": "5f1c5610",
   "metadata": {},
   "outputs": [],
   "source": [
    "list1=[]"
   ]
  },
  {
   "cell_type": "code",
   "execution_count": 12,
   "id": "2ab828d8",
   "metadata": {},
   "outputs": [
    {
     "data": {
      "text/plain": [
       "[]"
      ]
     },
     "execution_count": 12,
     "metadata": {},
     "output_type": "execute_result"
    }
   ],
   "source": [
    "list1"
   ]
  },
  {
   "cell_type": "code",
   "execution_count": 13,
   "id": "aae4ffe4",
   "metadata": {},
   "outputs": [],
   "source": [
    "list2=[1,2,3,4,5,6]"
   ]
  },
  {
   "cell_type": "code",
   "execution_count": 14,
   "id": "629d5d35",
   "metadata": {},
   "outputs": [
    {
     "data": {
      "text/plain": [
       "[1, 2, 3, 4, 5, 6]"
      ]
     },
     "execution_count": 14,
     "metadata": {},
     "output_type": "execute_result"
    }
   ],
   "source": [
    "list2"
   ]
  },
  {
   "cell_type": "code",
   "execution_count": 15,
   "id": "62286805",
   "metadata": {},
   "outputs": [],
   "source": [
    "list3=[11,12,13,14]"
   ]
  },
  {
   "cell_type": "code",
   "execution_count": 16,
   "id": "f40902d6",
   "metadata": {},
   "outputs": [
    {
     "data": {
      "text/plain": [
       "[11, 12, 13, 14]"
      ]
     },
     "execution_count": 16,
     "metadata": {},
     "output_type": "execute_result"
    }
   ],
   "source": [
    "list3"
   ]
  },
  {
   "cell_type": "code",
   "execution_count": 59,
   "id": "5c7c7abe",
   "metadata": {},
   "outputs": [],
   "source": [
    "list4=[100,200,300,400,500]"
   ]
  },
  {
   "cell_type": "code",
   "execution_count": 108,
   "id": "3c15e5c2",
   "metadata": {},
   "outputs": [
    {
     "data": {
      "text/plain": [
       "[100, 200, 300, 400, 500]"
      ]
     },
     "execution_count": 108,
     "metadata": {},
     "output_type": "execute_result"
    }
   ],
   "source": [
    "list4"
   ]
  },
  {
   "cell_type": "code",
   "execution_count": null,
   "id": "0b6227dd",
   "metadata": {},
   "outputs": [],
   "source": []
  },
  {
   "cell_type": "code",
   "execution_count": 20,
   "id": "f6fd4768",
   "metadata": {},
   "outputs": [],
   "source": [
    "list5=[10.2,22.36,60.16]"
   ]
  },
  {
   "cell_type": "code",
   "execution_count": 21,
   "id": "72a69393",
   "metadata": {},
   "outputs": [
    {
     "data": {
      "text/plain": [
       "[10.2, 22.36, 60.16]"
      ]
     },
     "execution_count": 21,
     "metadata": {},
     "output_type": "execute_result"
    }
   ],
   "source": [
    "list5"
   ]
  },
  {
   "cell_type": "code",
   "execution_count": 104,
   "id": "e8918056",
   "metadata": {},
   "outputs": [],
   "source": []
  },
  {
   "cell_type": "code",
   "execution_count": 24,
   "id": "3f12c4d1",
   "metadata": {},
   "outputs": [],
   "source": [
    "list6=['a','b','c','d']"
   ]
  },
  {
   "cell_type": "code",
   "execution_count": 26,
   "id": "6f1b7568",
   "metadata": {},
   "outputs": [
    {
     "data": {
      "text/plain": [
       "['a', 'b', 'c', 'd']"
      ]
     },
     "execution_count": 26,
     "metadata": {},
     "output_type": "execute_result"
    }
   ],
   "source": [
    "list6"
   ]
  },
  {
   "cell_type": "code",
   "execution_count": 27,
   "id": "5993bc55",
   "metadata": {},
   "outputs": [],
   "source": [
    "list7=['burger','pizza','cake']"
   ]
  },
  {
   "cell_type": "code",
   "execution_count": 28,
   "id": "d349d8c2",
   "metadata": {},
   "outputs": [
    {
     "data": {
      "text/plain": [
       "['burger', 'pizza', 'cake']"
      ]
     },
     "execution_count": 28,
     "metadata": {},
     "output_type": "execute_result"
    }
   ],
   "source": [
    "list7"
   ]
  },
  {
   "cell_type": "code",
   "execution_count": 110,
   "id": "24968f4b",
   "metadata": {},
   "outputs": [
    {
     "ename": "TypeError",
     "evalue": "'list' object is not callable",
     "output_type": "error",
     "traceback": [
      "\u001b[1;31m---------------------------------------------------------------------------\u001b[0m",
      "\u001b[1;31mTypeError\u001b[0m                                 Traceback (most recent call last)",
      "Input \u001b[1;32mIn [110]\u001b[0m, in \u001b[0;36m<cell line: 1>\u001b[1;34m()\u001b[0m\n\u001b[1;32m----> 1\u001b[0m \u001b[38;5;28;43mlen\u001b[39;49m\u001b[43m(\u001b[49m\u001b[43mlist7\u001b[49m\u001b[43m)\u001b[49m\n",
      "\u001b[1;31mTypeError\u001b[0m: 'list' object is not callable"
     ]
    }
   ],
   "source": [
    "len(list7)"
   ]
  },
  {
   "cell_type": "code",
   "execution_count": 81,
   "id": "f9ddc464",
   "metadata": {},
   "outputs": [],
   "source": [
    "list8=[55,89.34, 'matrix', 'b', 62, True]"
   ]
  },
  {
   "cell_type": "code",
   "execution_count": 82,
   "id": "459634e0",
   "metadata": {},
   "outputs": [
    {
     "data": {
      "text/plain": [
       "[55, 89.34, 'matrix', 'b', 62, True]"
      ]
     },
     "execution_count": 82,
     "metadata": {},
     "output_type": "execute_result"
    }
   ],
   "source": [
    "list8"
   ]
  },
  {
   "cell_type": "markdown",
   "id": "ba331408",
   "metadata": {},
   "source": [
    "indexing and slising in list\n",
    "\n",
    "\n",
    "\n",
    "\n",
    "\n",
    "\n",
    "\n",
    "\n",
    "\n",
    "\n",
    "\n",
    "\n",
    "\n",
    "\n",
    "\n",
    "\n",
    "\n",
    "\n",
    "\n",
    "\n",
    "\n",
    "\n",
    "\n",
    "\n",
    "\n"
   ]
  },
  {
   "cell_type": "code",
   "execution_count": 35,
   "id": "b40b1553",
   "metadata": {},
   "outputs": [
    {
     "data": {
      "text/plain": [
       "[11, 12, 13, 14]"
      ]
     },
     "execution_count": 35,
     "metadata": {},
     "output_type": "execute_result"
    }
   ],
   "source": [
    "list3"
   ]
  },
  {
   "cell_type": "code",
   "execution_count": 37,
   "id": "805e36cc",
   "metadata": {},
   "outputs": [
    {
     "data": {
      "text/plain": [
       "11"
      ]
     },
     "execution_count": 37,
     "metadata": {},
     "output_type": "execute_result"
    }
   ],
   "source": [
    "list3[0]"
   ]
  },
  {
   "cell_type": "code",
   "execution_count": 38,
   "id": "8ec7baa0",
   "metadata": {},
   "outputs": [
    {
     "data": {
      "text/plain": [
       "12"
      ]
     },
     "execution_count": 38,
     "metadata": {},
     "output_type": "execute_result"
    }
   ],
   "source": [
    "list3[1]"
   ]
  },
  {
   "cell_type": "code",
   "execution_count": 39,
   "id": "42227341",
   "metadata": {},
   "outputs": [
    {
     "data": {
      "text/plain": [
       "13"
      ]
     },
     "execution_count": 39,
     "metadata": {},
     "output_type": "execute_result"
    }
   ],
   "source": [
    "list3[2]"
   ]
  },
  {
   "cell_type": "code",
   "execution_count": 40,
   "id": "eaa16c85",
   "metadata": {},
   "outputs": [
    {
     "data": {
      "text/plain": [
       "14"
      ]
     },
     "execution_count": 40,
     "metadata": {},
     "output_type": "execute_result"
    }
   ],
   "source": [
    "list3[3]"
   ]
  },
  {
   "cell_type": "code",
   "execution_count": 41,
   "id": "cdf09c79",
   "metadata": {},
   "outputs": [
    {
     "data": {
      "text/plain": [
       "['a', 'b', 'c', 'd']"
      ]
     },
     "execution_count": 41,
     "metadata": {},
     "output_type": "execute_result"
    }
   ],
   "source": [
    "list6"
   ]
  },
  {
   "cell_type": "code",
   "execution_count": 42,
   "id": "55cc0431",
   "metadata": {},
   "outputs": [
    {
     "data": {
      "text/plain": [
       "'a'"
      ]
     },
     "execution_count": 42,
     "metadata": {},
     "output_type": "execute_result"
    }
   ],
   "source": [
    "list6[0]"
   ]
  },
  {
   "cell_type": "code",
   "execution_count": 46,
   "id": "36a5f4b5",
   "metadata": {},
   "outputs": [
    {
     "data": {
      "text/plain": [
       "'b'"
      ]
     },
     "execution_count": 46,
     "metadata": {},
     "output_type": "execute_result"
    }
   ],
   "source": [
    "list6[1]"
   ]
  },
  {
   "cell_type": "code",
   "execution_count": 47,
   "id": "f2bdb4db",
   "metadata": {},
   "outputs": [
    {
     "data": {
      "text/plain": [
       "'c'"
      ]
     },
     "execution_count": 47,
     "metadata": {},
     "output_type": "execute_result"
    }
   ],
   "source": [
    "list6[2]"
   ]
  },
  {
   "cell_type": "code",
   "execution_count": 48,
   "id": "c1946551",
   "metadata": {},
   "outputs": [
    {
     "data": {
      "text/plain": [
       "['burger', 'pizza', 'cake']"
      ]
     },
     "execution_count": 48,
     "metadata": {},
     "output_type": "execute_result"
    }
   ],
   "source": [
    "list7"
   ]
  },
  {
   "cell_type": "code",
   "execution_count": 49,
   "id": "3d7e572b",
   "metadata": {},
   "outputs": [
    {
     "data": {
      "text/plain": [
       "'pizza'"
      ]
     },
     "execution_count": 49,
     "metadata": {},
     "output_type": "execute_result"
    }
   ],
   "source": [
    "list7[1]"
   ]
  },
  {
   "cell_type": "code",
   "execution_count": 51,
   "id": "96b8170c",
   "metadata": {},
   "outputs": [
    {
     "data": {
      "text/plain": [
       "'cake'"
      ]
     },
     "execution_count": 51,
     "metadata": {},
     "output_type": "execute_result"
    }
   ],
   "source": [
    "list7[2]"
   ]
  },
  {
   "cell_type": "code",
   "execution_count": 52,
   "id": "b62244b6",
   "metadata": {},
   "outputs": [
    {
     "data": {
      "text/plain": [
       "[55, 89, 34, 'matrix', 'b', 62, True]"
      ]
     },
     "execution_count": 52,
     "metadata": {},
     "output_type": "execute_result"
    }
   ],
   "source": [
    "list8"
   ]
  },
  {
   "cell_type": "code",
   "execution_count": 53,
   "id": "7e77c2ae",
   "metadata": {},
   "outputs": [
    {
     "data": {
      "text/plain": [
       "55"
      ]
     },
     "execution_count": 53,
     "metadata": {},
     "output_type": "execute_result"
    }
   ],
   "source": [
    "list8[0]"
   ]
  },
  {
   "cell_type": "code",
   "execution_count": 54,
   "id": "ba034e07",
   "metadata": {},
   "outputs": [
    {
     "data": {
      "text/plain": [
       "34"
      ]
     },
     "execution_count": 54,
     "metadata": {},
     "output_type": "execute_result"
    }
   ],
   "source": [
    "list8[2]"
   ]
  },
  {
   "cell_type": "code",
   "execution_count": 56,
   "id": "7e4e3ba9",
   "metadata": {},
   "outputs": [
    {
     "data": {
      "text/plain": [
       "'matrix'"
      ]
     },
     "execution_count": 56,
     "metadata": {},
     "output_type": "execute_result"
    }
   ],
   "source": [
    "list8[3]"
   ]
  },
  {
   "cell_type": "code",
   "execution_count": 57,
   "id": "a0ce9a11",
   "metadata": {},
   "outputs": [
    {
     "data": {
      "text/plain": [
       "True"
      ]
     },
     "execution_count": 57,
     "metadata": {},
     "output_type": "execute_result"
    }
   ],
   "source": [
    "list8[6]"
   ]
  },
  {
   "cell_type": "code",
   "execution_count": 61,
   "id": "85992de3",
   "metadata": {},
   "outputs": [
    {
     "data": {
      "text/plain": [
       "[100, 200, 300, 400, 500]"
      ]
     },
     "execution_count": 61,
     "metadata": {},
     "output_type": "execute_result"
    }
   ],
   "source": [
    "  list4"
   ]
  },
  {
   "cell_type": "markdown",
   "id": "4e19a3cb",
   "metadata": {},
   "source": [
    "listing(start index & endindex)"
   ]
  },
  {
   "cell_type": "code",
   "execution_count": null,
   "id": "23bde2a2",
   "metadata": {},
   "outputs": [],
   "source": []
  },
  {
   "cell_type": "code",
   "execution_count": null,
   "id": "48bd3ea8",
   "metadata": {},
   "outputs": [],
   "source": []
  },
  {
   "cell_type": "markdown",
   "id": "69975ef7",
   "metadata": {},
   "source": [
    "slicing"
   ]
  },
  {
   "cell_type": "code",
   "execution_count": 62,
   "id": "65a711e1",
   "metadata": {},
   "outputs": [
    {
     "data": {
      "text/plain": [
       "[100, 200, 300, 400, 500]"
      ]
     },
     "execution_count": 62,
     "metadata": {},
     "output_type": "execute_result"
    }
   ],
   "source": [
    "list4"
   ]
  },
  {
   "cell_type": "code",
   "execution_count": 65,
   "id": "10fd803d",
   "metadata": {},
   "outputs": [
    {
     "data": {
      "text/plain": [
       "[100]"
      ]
     },
     "execution_count": 65,
     "metadata": {},
     "output_type": "execute_result"
    }
   ],
   "source": [
    "list4[0:1]"
   ]
  },
  {
   "cell_type": "code",
   "execution_count": 66,
   "id": "bdea2d1f",
   "metadata": {},
   "outputs": [
    {
     "data": {
      "text/plain": [
       "[100, 200]"
      ]
     },
     "execution_count": 66,
     "metadata": {},
     "output_type": "execute_result"
    }
   ],
   "source": [
    "list4[0:2]"
   ]
  },
  {
   "cell_type": "code",
   "execution_count": 67,
   "id": "2e38e28b",
   "metadata": {},
   "outputs": [
    {
     "data": {
      "text/plain": [
       "[100, 200, 300]"
      ]
     },
     "execution_count": 67,
     "metadata": {},
     "output_type": "execute_result"
    }
   ],
   "source": [
    "list4[0:3]"
   ]
  },
  {
   "cell_type": "code",
   "execution_count": 68,
   "id": "d847f553",
   "metadata": {},
   "outputs": [
    {
     "data": {
      "text/plain": [
       "[100, 200, 300, 400]"
      ]
     },
     "execution_count": 68,
     "metadata": {},
     "output_type": "execute_result"
    }
   ],
   "source": [
    "list4[0:4]"
   ]
  },
  {
   "cell_type": "code",
   "execution_count": 69,
   "id": "990d9e2d",
   "metadata": {},
   "outputs": [
    {
     "data": {
      "text/plain": [
       "[100, 200, 300, 400, 500]"
      ]
     },
     "execution_count": 69,
     "metadata": {},
     "output_type": "execute_result"
    }
   ],
   "source": [
    "list4[0:5]"
   ]
  },
  {
   "cell_type": "code",
   "execution_count": 70,
   "id": "1606c159",
   "metadata": {},
   "outputs": [
    {
     "data": {
      "text/plain": [
       "[200]"
      ]
     },
     "execution_count": 70,
     "metadata": {},
     "output_type": "execute_result"
    }
   ],
   "source": [
    "list4[1:2]"
   ]
  },
  {
   "cell_type": "code",
   "execution_count": 72,
   "id": "e1fdac7b",
   "metadata": {},
   "outputs": [
    {
     "data": {
      "text/plain": [
       "[200, 300, 400]"
      ]
     },
     "execution_count": 72,
     "metadata": {},
     "output_type": "execute_result"
    }
   ],
   "source": [
    "list4[1:4]"
   ]
  },
  {
   "cell_type": "code",
   "execution_count": 73,
   "id": "891a0c25",
   "metadata": {},
   "outputs": [
    {
     "data": {
      "text/plain": [
       "[200, 300, 400, 500]"
      ]
     },
     "execution_count": 73,
     "metadata": {},
     "output_type": "execute_result"
    }
   ],
   "source": [
    "list4[1:5]"
   ]
  },
  {
   "cell_type": "code",
   "execution_count": 74,
   "id": "a8997d29",
   "metadata": {},
   "outputs": [
    {
     "data": {
      "text/plain": [
       "[100, 200, 300, 400, 500]"
      ]
     },
     "execution_count": 74,
     "metadata": {},
     "output_type": "execute_result"
    }
   ],
   "source": [
    "list4"
   ]
  },
  {
   "cell_type": "code",
   "execution_count": 75,
   "id": "e93af46a",
   "metadata": {},
   "outputs": [
    {
     "data": {
      "text/plain": [
       "[300]"
      ]
     },
     "execution_count": 75,
     "metadata": {},
     "output_type": "execute_result"
    }
   ],
   "source": [
    "list4[2:3]"
   ]
  },
  {
   "cell_type": "code",
   "execution_count": 76,
   "id": "90833cdc",
   "metadata": {},
   "outputs": [
    {
     "data": {
      "text/plain": [
       "[300]"
      ]
     },
     "execution_count": 76,
     "metadata": {},
     "output_type": "execute_result"
    }
   ],
   "source": [
    "list4[2:3]"
   ]
  },
  {
   "cell_type": "code",
   "execution_count": 78,
   "id": "f63de16b",
   "metadata": {},
   "outputs": [
    {
     "data": {
      "text/plain": [
       "[300, 400]"
      ]
     },
     "execution_count": 78,
     "metadata": {},
     "output_type": "execute_result"
    }
   ],
   "source": [
    "list4[2:4]"
   ]
  },
  {
   "cell_type": "code",
   "execution_count": 79,
   "id": "13038ffc",
   "metadata": {},
   "outputs": [
    {
     "data": {
      "text/plain": [
       "[400]"
      ]
     },
     "execution_count": 79,
     "metadata": {},
     "output_type": "execute_result"
    }
   ],
   "source": [
    "list4[3:4]"
   ]
  },
  {
   "cell_type": "code",
   "execution_count": 80,
   "id": "534783a8",
   "metadata": {},
   "outputs": [
    {
     "data": {
      "text/plain": [
       "[400, 500]"
      ]
     },
     "execution_count": 80,
     "metadata": {},
     "output_type": "execute_result"
    }
   ],
   "source": [
    "list4[3:5]"
   ]
  },
  {
   "cell_type": "code",
   "execution_count": 83,
   "id": "cd439ab8",
   "metadata": {},
   "outputs": [
    {
     "data": {
      "text/plain": [
       "[55, 89.34, 'matrix', 'b', 62, True]"
      ]
     },
     "execution_count": 83,
     "metadata": {},
     "output_type": "execute_result"
    }
   ],
   "source": [
    "list8"
   ]
  },
  {
   "cell_type": "code",
   "execution_count": 86,
   "id": "57b79d89",
   "metadata": {},
   "outputs": [
    {
     "data": {
      "text/plain": [
       "[89.34, 'matrix', 'b']"
      ]
     },
     "execution_count": 86,
     "metadata": {},
     "output_type": "execute_result"
    }
   ],
   "source": [
    "list8[1:4]"
   ]
  },
  {
   "cell_type": "code",
   "execution_count": 87,
   "id": "0abf3237",
   "metadata": {},
   "outputs": [
    {
     "data": {
      "text/plain": [
       "[89.34, 'matrix', 'b', 62]"
      ]
     },
     "execution_count": 87,
     "metadata": {},
     "output_type": "execute_result"
    }
   ],
   "source": [
    "list8[1:5]"
   ]
  },
  {
   "cell_type": "code",
   "execution_count": 88,
   "id": "802aefb0",
   "metadata": {},
   "outputs": [
    {
     "data": {
      "text/plain": [
       "['matrix', 'b', 62]"
      ]
     },
     "execution_count": 88,
     "metadata": {},
     "output_type": "execute_result"
    }
   ],
   "source": [
    "list8[2:5]"
   ]
  },
  {
   "cell_type": "code",
   "execution_count": 89,
   "id": "60a99f86",
   "metadata": {},
   "outputs": [
    {
     "data": {
      "text/plain": [
       "[55, 89.34, 'matrix', 'b', 62, True]"
      ]
     },
     "execution_count": 89,
     "metadata": {},
     "output_type": "execute_result"
    }
   ],
   "source": [
    "list8[0:]"
   ]
  },
  {
   "cell_type": "code",
   "execution_count": 90,
   "id": "abc36bab",
   "metadata": {},
   "outputs": [
    {
     "data": {
      "text/plain": [
       "[55, 89.34, 'matrix', 'b']"
      ]
     },
     "execution_count": 90,
     "metadata": {},
     "output_type": "execute_result"
    }
   ],
   "source": [
    "list8[:4]"
   ]
  },
  {
   "cell_type": "code",
   "execution_count": 91,
   "id": "a3c43dd6",
   "metadata": {},
   "outputs": [
    {
     "data": {
      "text/plain": [
       "[55, 89.34, 'matrix', 'b', 62, True]"
      ]
     },
     "execution_count": 91,
     "metadata": {},
     "output_type": "execute_result"
    }
   ],
   "source": [
    "list8[:]"
   ]
  },
  {
   "cell_type": "code",
   "execution_count": 92,
   "id": "2140775f",
   "metadata": {},
   "outputs": [
    {
     "data": {
      "text/plain": [
       "[55, 89.34, 'matrix', 'b', 62, True]"
      ]
     },
     "execution_count": 92,
     "metadata": {},
     "output_type": "execute_result"
    }
   ],
   "source": [
    "list8"
   ]
  },
  {
   "cell_type": "code",
   "execution_count": 94,
   "id": "1fa73501",
   "metadata": {},
   "outputs": [
    {
     "data": {
      "text/plain": [
       "[True]"
      ]
     },
     "execution_count": 94,
     "metadata": {},
     "output_type": "execute_result"
    }
   ],
   "source": [
    "list8[5:]"
   ]
  },
  {
   "cell_type": "code",
   "execution_count": 97,
   "id": "1237bb35",
   "metadata": {},
   "outputs": [
    {
     "data": {
      "text/plain": [
       "[22, 24, 34]"
      ]
     },
     "execution_count": 97,
     "metadata": {},
     "output_type": "execute_result"
    }
   ],
   "source": [
    "l3=[22,24,34,35]\n",
    "l3[0:3]"
   ]
  },
  {
   "cell_type": "code",
   "execution_count": 98,
   "id": "e605141a",
   "metadata": {},
   "outputs": [
    {
     "data": {
      "text/plain": [
       "[22, 24, 34]"
      ]
     },
     "execution_count": 98,
     "metadata": {},
     "output_type": "execute_result"
    }
   ],
   "source": [
    "l3[0:3]"
   ]
  },
  {
   "cell_type": "code",
   "execution_count": 99,
   "id": "db82cf24",
   "metadata": {},
   "outputs": [
    {
     "data": {
      "text/plain": [
       "['burger', 'pizza', 'cake']"
      ]
     },
     "execution_count": 99,
     "metadata": {},
     "output_type": "execute_result"
    }
   ],
   "source": [
    "list7"
   ]
  },
  {
   "cell_type": "code",
   "execution_count": 100,
   "id": "042acf2e",
   "metadata": {},
   "outputs": [
    {
     "data": {
      "text/plain": [
       "[100, 200, 300, 400, 500]"
      ]
     },
     "execution_count": 100,
     "metadata": {},
     "output_type": "execute_result"
    }
   ],
   "source": [
    "list4"
   ]
  },
  {
   "cell_type": "markdown",
   "id": "1646ef14",
   "metadata": {},
   "source": [
    "nagative indexing"
   ]
  },
  {
   "cell_type": "code",
   "execution_count": 5,
   "id": "cb67eece",
   "metadata": {},
   "outputs": [],
   "source": [
    "list4=100,200,300,400,500"
   ]
  },
  {
   "cell_type": "code",
   "execution_count": 6,
   "id": "203d1f08",
   "metadata": {},
   "outputs": [
    {
     "data": {
      "text/plain": [
       "(100, 200, 300, 400, 500)"
      ]
     },
     "execution_count": 6,
     "metadata": {},
     "output_type": "execute_result"
    }
   ],
   "source": [
    "list4"
   ]
  },
  {
   "cell_type": "code",
   "execution_count": 7,
   "id": "118e5445",
   "metadata": {},
   "outputs": [
    {
     "data": {
      "text/plain": [
       "500"
      ]
     },
     "execution_count": 7,
     "metadata": {},
     "output_type": "execute_result"
    }
   ],
   "source": [
    "list4[-1]"
   ]
  },
  {
   "cell_type": "code",
   "execution_count": 8,
   "id": "aab6828c",
   "metadata": {},
   "outputs": [
    {
     "data": {
      "text/plain": [
       "400"
      ]
     },
     "execution_count": 8,
     "metadata": {},
     "output_type": "execute_result"
    }
   ],
   "source": [
    "list4[-2]"
   ]
  },
  {
   "cell_type": "code",
   "execution_count": 9,
   "id": "181190b3",
   "metadata": {},
   "outputs": [
    {
     "data": {
      "text/plain": [
       "300"
      ]
     },
     "execution_count": 9,
     "metadata": {},
     "output_type": "execute_result"
    }
   ],
   "source": [
    "list4[-3]"
   ]
  },
  {
   "cell_type": "code",
   "execution_count": 10,
   "id": "ce8388c1",
   "metadata": {},
   "outputs": [
    {
     "data": {
      "text/plain": [
       "200"
      ]
     },
     "execution_count": 10,
     "metadata": {},
     "output_type": "execute_result"
    }
   ],
   "source": [
    "list4[-4]"
   ]
  },
  {
   "cell_type": "code",
   "execution_count": 12,
   "id": "bc551a74",
   "metadata": {},
   "outputs": [
    {
     "data": {
      "text/plain": [
       "100"
      ]
     },
     "execution_count": 12,
     "metadata": {},
     "output_type": "execute_result"
    }
   ],
   "source": [
    "list4[-5]"
   ]
  },
  {
   "cell_type": "code",
   "execution_count": 13,
   "id": "c7742a49",
   "metadata": {},
   "outputs": [
    {
     "data": {
      "text/plain": [
       "(100, 200, 300, 400, 500)"
      ]
     },
     "execution_count": 13,
     "metadata": {},
     "output_type": "execute_result"
    }
   ],
   "source": [
    "list4[:]"
   ]
  },
  {
   "cell_type": "code",
   "execution_count": 14,
   "id": "d5692d2a",
   "metadata": {},
   "outputs": [
    {
     "data": {
      "text/plain": [
       "(400,)"
      ]
     },
     "execution_count": 14,
     "metadata": {},
     "output_type": "execute_result"
    }
   ],
   "source": [
    "list4[-2:-1]"
   ]
  },
  {
   "cell_type": "code",
   "execution_count": 15,
   "id": "80be9e76",
   "metadata": {},
   "outputs": [
    {
     "data": {
      "text/plain": [
       "(300, 400)"
      ]
     },
     "execution_count": 15,
     "metadata": {},
     "output_type": "execute_result"
    }
   ],
   "source": [
    "list4[-3:-1]"
   ]
  },
  {
   "cell_type": "code",
   "execution_count": 16,
   "id": "3a2ee7d4",
   "metadata": {},
   "outputs": [
    {
     "data": {
      "text/plain": [
       "(200, 300, 400)"
      ]
     },
     "execution_count": 16,
     "metadata": {},
     "output_type": "execute_result"
    }
   ],
   "source": [
    "list4[-4:-1]"
   ]
  },
  {
   "cell_type": "code",
   "execution_count": 17,
   "id": "3af72228",
   "metadata": {},
   "outputs": [
    {
     "data": {
      "text/plain": [
       "(100, 200, 300, 400)"
      ]
     },
     "execution_count": 17,
     "metadata": {},
     "output_type": "execute_result"
    }
   ],
   "source": [
    "list4[-5:-1]"
   ]
  },
  {
   "cell_type": "code",
   "execution_count": 18,
   "id": "83f6d371",
   "metadata": {},
   "outputs": [
    {
     "data": {
      "text/plain": [
       "(100, 200)"
      ]
     },
     "execution_count": 18,
     "metadata": {},
     "output_type": "execute_result"
    }
   ],
   "source": [
    "list4[-5:-3]"
   ]
  },
  {
   "cell_type": "code",
   "execution_count": null,
   "id": "ed6adf9e",
   "metadata": {},
   "outputs": [],
   "source": []
  },
  {
   "cell_type": "code",
   "execution_count": null,
   "id": "7637d0d0",
   "metadata": {},
   "outputs": [],
   "source": []
  }
 ],
 "metadata": {
  "kernelspec": {
   "display_name": "Python 3 (ipykernel)",
   "language": "python",
   "name": "python3"
  },
  "language_info": {
   "codemirror_mode": {
    "name": "ipython",
    "version": 3
   },
   "file_extension": ".py",
   "mimetype": "text/x-python",
   "name": "python",
   "nbconvert_exporter": "python",
   "pygments_lexer": "ipython3",
   "version": "3.9.12"
  }
 },
 "nbformat": 4,
 "nbformat_minor": 5
}
